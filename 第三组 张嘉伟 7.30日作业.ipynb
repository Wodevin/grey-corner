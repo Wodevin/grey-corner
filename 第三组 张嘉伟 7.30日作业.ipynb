{
 "cells": [
  {
   "cell_type": "code",
   "execution_count": 1,
   "metadata": {},
   "outputs": [
    {
     "name": "stdout",
     "output_type": "stream",
     "text": [
      "1 2 3 5\n",
      "1 2 5 3\n",
      "1 3 2 5\n",
      "1 3 5 2\n",
      "1 5 2 3\n",
      "1 5 3 2\n",
      "2 1 3 5\n",
      "2 1 5 3\n",
      "2 3 1 5\n",
      "2 3 5 1\n",
      "2 5 1 3\n",
      "2 5 3 1\n",
      "3 1 2 5\n",
      "3 1 5 2\n",
      "3 2 1 5\n",
      "3 2 5 1\n",
      "3 5 1 2\n",
      "3 5 2 1\n",
      "5 1 2 3\n",
      "5 1 3 2\n",
      "5 2 1 3\n",
      "5 2 3 1\n",
      "5 3 1 2\n",
      "5 3 2 1\n"
     ]
    }
   ],
   "source": [
    "#第一题\n",
    "m =set([1,2,3,5])\n",
    "list_result = []\n",
    "for a in m:\n",
    "    for b in m:\n",
    "        for c in m:\n",
    "            for d in m:\n",
    "                if a!=b!=c!=d and a!=d!=b and a!=c:\n",
    "                    print(a,b,c,d)"
   ]
  },
  {
   "cell_type": "code",
   "execution_count": null,
   "metadata": {
    "collapsed": true
   },
   "outputs": [],
   "source": [
    "#第二题\n",
    "mylist = []\n",
    "for count in range (20):\n",
    "    mylist.append(0)\n",
    "mylist[0]=1\n",
    "mylist[1]=1\n",
    "for i in range (2,20,1):\n",
    "    mylist[i] =mylist [i-1]+mylist[i-2]\n",
    "for k in range (0,19):\n",
    "    t = mylist[k]+mylist[k+1]\n",
    "print(t)"
   ]
  },
  {
   "cell_type": "code",
   "execution_count": 3,
   "metadata": {},
   "outputs": [
    {
     "name": "stdout",
     "output_type": "stream",
     "text": [
      "2\n",
      "11\n",
      "13\n",
      "17\n",
      "19\n",
      "31\n",
      "37\n",
      "53\n",
      "59\n",
      "71\n",
      "73\n",
      "79\n",
      "97\n",
      "101\n",
      "103\n",
      "107\n",
      "109\n",
      "127\n",
      "149\n",
      "163\n",
      "167\n",
      "181\n"
     ]
    }
   ],
   "source": [
    "#第三题\n",
    "for num in range(1,201):\n",
    "    for i in range(2, num):\n",
    "        if (num % i) == 0:\n",
    "            break\n",
    "    else:\n",
    "        if (num//10+num//100+num)%2 == 0:\n",
    "            print(num)"
   ]
  },
  {
   "cell_type": "code",
   "execution_count": 4,
   "metadata": {},
   "outputs": [
    {
     "name": "stdout",
     "output_type": "stream",
     "text": [
      "[1.0, 5.0, 7.0]\n"
     ]
    }
   ],
   "source": [
    "#第四题（未完成）算法正确（经手算验证 前五项分别为1, 2.33, 5.0, 7.0，9.66）然而没有解决range函数只能包含整数的问题 所以缺失了2项数据 不过算法绝对正确 \n",
    "t = []\n",
    "i = 0\n",
    "for k in range(1,3):\n",
    "    for m in range(0,k):\n",
    "        temp = ((2*k-1)*200.0 + (2*(k-m)-1)*150.0)/150.0\n",
    "        if temp in range(4*(k-1),4*k+1):\n",
    "            t.append(temp)\n",
    "            i += 1\n",
    "        if i == 2 * k:\n",
    "            break\n",
    "\n",
    "        temp = ((2*k-1)*200.0 - (2*(k-m)-1)*150.0)/50.0\n",
    "        if temp in range(4*(k-1), 4*k+1):\n",
    "            t.append(temp)\n",
    "            i += 1\n",
    "        if i == 2 * k:\n",
    "            break\n",
    "t.sort()\n",
    "print(t)"
   ]
  }
 ],
 "metadata": {
  "kernelspec": {
   "display_name": "Python 3",
   "language": "python",
   "name": "python3"
  },
  "language_info": {
   "codemirror_mode": {
    "name": "ipython",
    "version": 3
   },
   "file_extension": ".py",
   "mimetype": "text/x-python",
   "name": "python",
   "nbconvert_exporter": "python",
   "pygments_lexer": "ipython3",
   "version": "3.6.2"
  }
 },
 "nbformat": 4,
 "nbformat_minor": 2
}
